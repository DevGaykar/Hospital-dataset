{
 "cells": [
  {
   "cell_type": "code",
   "execution_count": 1,
   "id": "6538944b",
   "metadata": {},
   "outputs": [],
   "source": [
    "import pandas as pd\n",
    "from faker import Faker\n",
    "from tqdm import tqdm\n",
    "import random"
   ]
  },
  {
   "cell_type": "code",
   "execution_count": 2,
   "id": "01aec5b9",
   "metadata": {},
   "outputs": [],
   "source": [
    "random.seed(42)\n",
    "Faker.seed(42)\n",
    "\n",
    "fake = Faker()\n",
    "\n",
    "num_hospitals = 5\n",
    "num_patients = 100000\n"
   ]
  },
  {
   "cell_type": "markdown",
   "id": "4347a30c",
   "metadata": {},
   "source": [
    "For Hospital Table  \n",
    "<small><i>Columns: hospital_id, hospital_name</i></small>"
   ]
  },
  {
   "cell_type": "code",
   "execution_count": 3,
   "id": "b07c22bc",
   "metadata": {},
   "outputs": [],
   "source": [
    "hospital_data = {\n",
    "    \"hospital_id\": list(range(1, num_hospitals + 1)),\n",
    "    \"hospital_name\": [fake.company() for _ in range(num_hospitals)]\n",
    "}\n",
    "hospitals_df = pd.DataFrame(hospital_data)"
   ]
  },
  {
   "cell_type": "code",
   "execution_count": 4,
   "id": "796cd18a",
   "metadata": {},
   "outputs": [
    {
     "name": "stdout",
     "output_type": "stream",
     "text": [
      "   hospital_id                    hospital_name\n",
      "0            1  Rodriguez, Figueroa and Sanchez\n",
      "1            2                        Doyle Ltd\n",
      "2            3    Mcclain, Miller and Henderson\n",
      "3            4                   Davis and Sons\n",
      "4            5      Guzman, Hoffman and Baldwin\n"
     ]
    }
   ],
   "source": [
    "print(hospitals_df)"
   ]
  },
  {
   "cell_type": "markdown",
   "id": "182044bd",
   "metadata": {},
   "source": [
    "Patient Table  \n",
    "<small><i>Columns: patient_id, hospital_id, patient_name, dob, admission_datetime,\n",
    "discharge_datetime </small></i>"
   ]
  },
  {
   "cell_type": "code",
   "execution_count": 5,
   "id": "b59efffc",
   "metadata": {},
   "outputs": [
    {
     "name": "stderr",
     "output_type": "stream",
     "text": [
      "100%|██████████| 100000/100000 [00:12<00:00, 7956.59it/s]\n"
     ]
    }
   ],
   "source": [
    "patients = []\n",
    "\n",
    "for i in tqdm(range(1,num_patients+1)):\n",
    "    hospital_id = random.randint(1,num_hospitals)\n",
    "    name = fake.name()\n",
    "    dob = fake.date_of_birth(minimum_age=1,maximum_age=99)\n",
    "    admit = fake.date_time_between(start_date='-2y',end_date='-1d')\n",
    "    discharge = fake.date_time_between(start_date=admit,end_date='now')\n",
    "    patients.append([i,hospital_id,name,dob,admit,discharge])\n",
    "\n",
    "patients_df = pd.DataFrame(patients,columns=[\"patient_id\", \"hospital_id\", \"patient_name\", \"dob\", \"admission_datetime\",\n",
    "\"discharge_datetime\"])"
   ]
  },
  {
   "cell_type": "code",
   "execution_count": 6,
   "id": "54b94e39",
   "metadata": {},
   "outputs": [
    {
     "name": "stdout",
     "output_type": "stream",
     "text": [
      "[1, 1, 'Jennifer Cole', datetime.date(1963, 5, 9), datetime.datetime(2025, 3, 19, 7, 2, 57), datetime.datetime(2025, 3, 20, 13, 20, 8)]\n"
     ]
    }
   ],
   "source": [
    "print(patients[0])"
   ]
  },
  {
   "cell_type": "code",
   "execution_count": 7,
   "id": "73a8c219",
   "metadata": {},
   "outputs": [
    {
     "name": "stdout",
     "output_type": "stream",
     "text": [
      "       patient_id  hospital_id       patient_name         dob  \\\n",
      "0               1            1      Jennifer Cole  1963-05-09   \n",
      "1               2            1  Caitlin Henderson  1963-04-24   \n",
      "2               3            3    Gabrielle Davis  1938-08-27   \n",
      "3               4            2        Renee Blair  1998-06-22   \n",
      "4               5            2      Edward Fuller  1974-09-16   \n",
      "...           ...          ...                ...         ...   \n",
      "99995       99996            5       Brian Snyder  1936-04-12   \n",
      "99996       99997            1      Cheryl Murray  1934-02-02   \n",
      "99997       99998            4      Nicole Fowler  1986-05-29   \n",
      "99998       99999            5    Stephen Pittman  1980-03-13   \n",
      "99999      100000            2    Peggy Morgan MD  1982-03-25   \n",
      "\n",
      "       admission_datetime  discharge_datetime  \n",
      "0     2025-03-19 07:02:57 2025-03-20 13:20:08  \n",
      "1     2023-10-28 08:31:11 2024-04-12 14:15:32  \n",
      "2     2024-04-03 10:01:57 2024-12-26 13:49:54  \n",
      "3     2023-10-04 13:06:00 2024-07-24 13:29:32  \n",
      "4     2024-09-20 00:47:45 2024-12-03 17:03:19  \n",
      "...                   ...                 ...  \n",
      "99995 2025-01-31 01:32:49 2025-05-21 09:18:14  \n",
      "99996 2024-09-30 12:23:25 2025-03-04 13:42:36  \n",
      "99997 2025-06-22 00:44:36 2025-06-26 16:48:47  \n",
      "99998 2024-12-15 21:33:41 2025-03-08 21:59:42  \n",
      "99999 2024-12-06 19:52:32 2025-03-10 11:44:25  \n",
      "\n",
      "[100000 rows x 6 columns]\n"
     ]
    }
   ],
   "source": [
    "print(patients_df)"
   ]
  },
  {
   "cell_type": "markdown",
   "id": "7349f5fc",
   "metadata": {},
   "source": [
    "Diagnosis Table  \n",
    "<smalll><i>Columns: diagnosis_id, patient_id, diagnosis_name</small></i>"
   ]
  },
  {
   "cell_type": "code",
   "execution_count": 8,
   "id": "938bbf31",
   "metadata": {},
   "outputs": [
    {
     "name": "stderr",
     "output_type": "stream",
     "text": [
      "100%|██████████| 100000/100000 [00:00<00:00, 140244.75it/s]\n"
     ]
    }
   ],
   "source": [
    "diagnoses_list = [\"Flu\", \"Diabetes\", \"Hypertension\", \"Asthma\", \"Covid-19\", \"Migraine\"]\n",
    "diagnoses = []\n",
    "\n",
    "for pid in tqdm(patients_df['patient_id']):\n",
    "    for _ in range(2):\n",
    "        diagnoses.append([fake.uuid4(),pid,random.choice(diagnoses_list)])\n",
    "\n",
    "diagnoses_df = pd.DataFrame(diagnoses,columns=['diagnosis_id', 'patient_id', 'diagnosis_name'])"
   ]
  },
  {
   "cell_type": "code",
   "execution_count": 9,
   "id": "938bf8a6",
   "metadata": {},
   "outputs": [
    {
     "name": "stdout",
     "output_type": "stream",
     "text": [
      "                                diagnosis_id  patient_id diagnosis_name\n",
      "0       9b524d60-68c1-4521-98bd-63be25fc386b           1   Hypertension\n",
      "1       a4de63ed-a8c5-4d47-bde5-ebca183645ce           1       Diabetes\n",
      "2       9b1b4720-ddc0-447b-b6c3-72967d14c162           2       Diabetes\n",
      "3       e9c7f5d1-8bd8-4fb4-a4a1-da5a3ffbbb5b           2         Asthma\n",
      "4       86f3dd82-cf14-46d5-906a-146341555699           3            Flu\n",
      "...                                      ...         ...            ...\n",
      "199995  98f8567f-9516-4496-8d24-a50590cc3e98       99998       Migraine\n",
      "199996  b81233d8-fd85-4ece-a171-21b7e98b55e3       99999            Flu\n",
      "199997  b4777d31-e662-437f-835f-019c88c0797f       99999            Flu\n",
      "199998  1e2b423c-7ba0-4292-a106-8d0838cdb48e      100000       Covid-19\n",
      "199999  c6673946-7f3e-43f3-9ef9-7f795ed5770e      100000   Hypertension\n",
      "\n",
      "[200000 rows x 3 columns]\n"
     ]
    }
   ],
   "source": [
    "print(diagnoses_df)"
   ]
  },
  {
   "cell_type": "markdown",
   "id": "b8f3b096",
   "metadata": {},
   "source": [
    "Treatment Table  \n",
    "<small><i>Columns: treatment_id, patient_id, medicine_name, dose_time, duration</small></i>"
   ]
  },
  {
   "cell_type": "code",
   "execution_count": 10,
   "id": "04b694d7",
   "metadata": {},
   "outputs": [
    {
     "name": "stderr",
     "output_type": "stream",
     "text": [
      "100%|██████████| 100000/100000 [00:06<00:00, 15409.86it/s]\n"
     ]
    }
   ],
   "source": [
    "medicines = [\"Paracetamol\", \"Ibuprofen\", \"Aspirin\", \"Amoxicillin\", \"Metformin\", \"Atorvastatin\"]\n",
    "treatments = []\n",
    "\n",
    "for pid in tqdm(patients_df['patient_id']):\n",
    "    for _ in range(5):\n",
    "        treatments.append([\n",
    "            fake.uuid4(),\n",
    "            pid,\n",
    "            random.choice(medicines),\n",
    "            fake.time(),\n",
    "            random.randint(1,30)\n",
    "        ])\n",
    "\n",
    "treatments_df = pd.DataFrame(treatments,columns=['treatment_id', 'patient_id', 'medicine_name', 'dose_time', 'duration'])        \n",
    "\n"
   ]
  },
  {
   "cell_type": "code",
   "execution_count": 11,
   "id": "aa232d93",
   "metadata": {},
   "outputs": [
    {
     "name": "stdout",
     "output_type": "stream",
     "text": [
      "                                treatment_id  patient_id medicine_name  \\\n",
      "0       441f3cad-cdb7-4466-8c87-343004384fc3           1   Paracetamol   \n",
      "1       af34270a-1c6c-4d7d-9e33-fcc1219fb2b4           1       Aspirin   \n",
      "2       c45e68b8-64ae-45c6-bc01-2b0c760f9b06           1       Aspirin   \n",
      "3       06218d83-4c03-4c96-bfd4-a051bb668b7b           1     Metformin   \n",
      "4       357527c0-3599-4ba1-aa4d-24572c643aaa           1   Paracetamol   \n",
      "...                                      ...         ...           ...   \n",
      "499995  f6cef84c-a81b-40f5-a304-aa1fb3a8bfae      100000     Ibuprofen   \n",
      "499996  ae2a4ae1-26b0-4f7b-a655-7d26bdb08a88      100000   Amoxicillin   \n",
      "499997  3d49e6fd-7f0d-43ec-bae5-543cb9bf70df      100000     Metformin   \n",
      "499998  b7261a5b-e90c-4b58-a1fe-1835f0a2d4a1      100000   Paracetamol   \n",
      "499999  1cfc5208-11f5-4712-a153-7cfcd2c9882e      100000   Paracetamol   \n",
      "\n",
      "       dose_time  duration  \n",
      "0       15:35:21         9  \n",
      "1       21:35:56        26  \n",
      "2       21:45:07         7  \n",
      "3       11:27:03        10  \n",
      "4       03:33:14        23  \n",
      "...          ...       ...  \n",
      "499995  04:23:33         3  \n",
      "499996  19:32:01        16  \n",
      "499997  12:19:43        24  \n",
      "499998  21:13:38        29  \n",
      "499999  08:03:34        26  \n",
      "\n",
      "[500000 rows x 5 columns]\n"
     ]
    }
   ],
   "source": [
    "print(treatments_df)"
   ]
  },
  {
   "cell_type": "markdown",
   "id": "c06e5315",
   "metadata": {},
   "source": [
    "Billing Table  \n",
    "<small><i>Columns: bill_id, patient_id, bill_amount, payment_mode (cash/credit)</small></i>"
   ]
  },
  {
   "cell_type": "code",
   "execution_count": 12,
   "id": "801401ac",
   "metadata": {},
   "outputs": [
    {
     "name": "stderr",
     "output_type": "stream",
     "text": [
      "100%|██████████| 100000/100000 [00:00<00:00, 150657.20it/s]\n"
     ]
    }
   ],
   "source": [
    "billing = []\n",
    "\n",
    "for pid in tqdm(patients_df['patient_id']):\n",
    "    billing.append([\n",
    "        fake.uuid4(),\n",
    "        pid,\n",
    "        round(random.uniform(1000,5000),2),\n",
    "        random.choice([\"cash\",\"credit\"])\n",
    "    ])\n",
    "\n",
    "billing_df = pd.DataFrame(billing,columns=['bill_id', 'patient_id', 'bill_amount', 'payment_mode'])"
   ]
  },
  {
   "cell_type": "code",
   "execution_count": 13,
   "id": "b84bc477",
   "metadata": {},
   "outputs": [
    {
     "name": "stdout",
     "output_type": "stream",
     "text": [
      "                                    bill_id  patient_id  bill_amount  \\\n",
      "0      4c3f55f4-10e1-4ef9-86a2-41af029d5292           1      3671.99   \n",
      "1      a37192f5-ed71-43f6-bb44-ebd443fe47d8           2      2331.78   \n",
      "2      a8598dbe-d685-460b-bc3a-896e4ace792d           3      2221.35   \n",
      "3      d52667ce-39b2-45f5-87e8-1ac8426d430b           4      1740.24   \n",
      "4      73747ca3-592f-4fa1-8e44-2e57e1e2746a           5      1237.87   \n",
      "...                                     ...         ...          ...   \n",
      "99995  5f041181-a879-4cbf-a9cd-405183afb991       99996      3366.48   \n",
      "99996  c1ca1c79-09dd-47d3-90d8-5465bf8b2970       99997      1071.78   \n",
      "99997  df856f16-d2fb-4b01-8e16-eb15ffbe1c6b       99998      3897.63   \n",
      "99998  0b4a8c71-7222-4447-8c3a-bc9aec559326       99999      3120.30   \n",
      "99999  8cf0faf4-acbb-4bea-82ec-c68e7fafe1d4      100000      4982.36   \n",
      "\n",
      "      payment_mode  \n",
      "0           credit  \n",
      "1           credit  \n",
      "2             cash  \n",
      "3           credit  \n",
      "4             cash  \n",
      "...            ...  \n",
      "99995         cash  \n",
      "99996         cash  \n",
      "99997       credit  \n",
      "99998         cash  \n",
      "99999         cash  \n",
      "\n",
      "[100000 rows x 4 columns]\n"
     ]
    }
   ],
   "source": [
    "print(billing_df)"
   ]
  },
  {
   "cell_type": "code",
   "execution_count": null,
   "id": "9b2e4c2b",
   "metadata": {},
   "outputs": [],
   "source": [
    "hospitals_df.to_csv(\"hospitals.csv\", index=False)\n",
    "patients_df.to_csv(\"patients.csv\", index=False)\n",
    "diagnoses_df.to_csv(\"diagnoses.csv\", index=False)\n",
    "treatments_df.to_csv(\"treatments.csv\", index=False)\n",
    "billing_df.to_csv(\"billing.csv\", index=False)"
   ]
  },
  {
   "cell_type": "code",
   "execution_count": null,
   "id": "a8ccb0c2",
   "metadata": {},
   "outputs": [],
   "source": []
  }
 ],
 "metadata": {
  "kernelspec": {
   "display_name": "env",
   "language": "python",
   "name": "python3"
  },
  "language_info": {
   "codemirror_mode": {
    "name": "ipython",
    "version": 3
   },
   "file_extension": ".py",
   "mimetype": "text/x-python",
   "name": "python",
   "nbconvert_exporter": "python",
   "pygments_lexer": "ipython3",
   "version": "3.13.0"
  }
 },
 "nbformat": 4,
 "nbformat_minor": 5
}
